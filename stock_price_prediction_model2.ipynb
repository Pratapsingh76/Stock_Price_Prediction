{
 "cells": [
  {
   "cell_type": "code",
   "execution_count": 1,
   "id": "74007a82",
   "metadata": {},
   "outputs": [],
   "source": [
    "import numpy as np \n",
    "import pandas as pd \n",
    "import matplotlib.pyplot as plt \n",
    "from sklearn.preprocessing import MinMaxScaler\n",
    "from keras.models import Sequential\n",
    "from keras.layers import Dense,LSTM,Dropout"
   ]
  },
  {
   "cell_type": "code",
   "execution_count": 2,
   "id": "48350208",
   "metadata": {},
   "outputs": [
    {
     "data": {
      "text/html": [
       "<div>\n",
       "<style scoped>\n",
       "    .dataframe tbody tr th:only-of-type {\n",
       "        vertical-align: middle;\n",
       "    }\n",
       "\n",
       "    .dataframe tbody tr th {\n",
       "        vertical-align: top;\n",
       "    }\n",
       "\n",
       "    .dataframe thead th {\n",
       "        text-align: right;\n",
       "    }\n",
       "</style>\n",
       "<table border=\"1\" class=\"dataframe\">\n",
       "  <thead>\n",
       "    <tr style=\"text-align: right;\">\n",
       "      <th></th>\n",
       "      <th>Date</th>\n",
       "      <th>Open</th>\n",
       "      <th>High</th>\n",
       "      <th>Low</th>\n",
       "      <th>Close</th>\n",
       "      <th>Volume</th>\n",
       "    </tr>\n",
       "  </thead>\n",
       "  <tbody>\n",
       "    <tr>\n",
       "      <th>0</th>\n",
       "      <td>1/3/2012</td>\n",
       "      <td>325.25</td>\n",
       "      <td>332.83</td>\n",
       "      <td>324.97</td>\n",
       "      <td>663.59</td>\n",
       "      <td>7,380,500</td>\n",
       "    </tr>\n",
       "    <tr>\n",
       "      <th>1</th>\n",
       "      <td>1/4/2012</td>\n",
       "      <td>331.27</td>\n",
       "      <td>333.87</td>\n",
       "      <td>329.08</td>\n",
       "      <td>666.45</td>\n",
       "      <td>5,749,400</td>\n",
       "    </tr>\n",
       "    <tr>\n",
       "      <th>2</th>\n",
       "      <td>1/5/2012</td>\n",
       "      <td>329.83</td>\n",
       "      <td>330.75</td>\n",
       "      <td>326.89</td>\n",
       "      <td>657.21</td>\n",
       "      <td>6,590,300</td>\n",
       "    </tr>\n",
       "    <tr>\n",
       "      <th>3</th>\n",
       "      <td>1/6/2012</td>\n",
       "      <td>328.34</td>\n",
       "      <td>328.77</td>\n",
       "      <td>323.68</td>\n",
       "      <td>648.24</td>\n",
       "      <td>5,405,900</td>\n",
       "    </tr>\n",
       "    <tr>\n",
       "      <th>4</th>\n",
       "      <td>1/9/2012</td>\n",
       "      <td>322.04</td>\n",
       "      <td>322.29</td>\n",
       "      <td>309.46</td>\n",
       "      <td>620.76</td>\n",
       "      <td>11,688,800</td>\n",
       "    </tr>\n",
       "  </tbody>\n",
       "</table>\n",
       "</div>"
      ],
      "text/plain": [
       "       Date    Open    High     Low   Close      Volume\n",
       "0  1/3/2012  325.25  332.83  324.97  663.59   7,380,500\n",
       "1  1/4/2012  331.27  333.87  329.08  666.45   5,749,400\n",
       "2  1/5/2012  329.83  330.75  326.89  657.21   6,590,300\n",
       "3  1/6/2012  328.34  328.77  323.68  648.24   5,405,900\n",
       "4  1/9/2012  322.04  322.29  309.46  620.76  11,688,800"
      ]
     },
     "execution_count": 2,
     "metadata": {},
     "output_type": "execute_result"
    }
   ],
   "source": [
    "data = pd.read_csv('D:/MACHINE LEARNING/goolestockprice/Google_train_data.csv')\n",
    "data.head()"
   ]
  },
  {
   "cell_type": "code",
   "execution_count": 3,
   "id": "3548c77c",
   "metadata": {},
   "outputs": [
    {
     "name": "stdout",
     "output_type": "stream",
     "text": [
      "<class 'pandas.core.frame.DataFrame'>\n",
      "RangeIndex: 1258 entries, 0 to 1257\n",
      "Data columns (total 6 columns):\n",
      " #   Column  Non-Null Count  Dtype  \n",
      "---  ------  --------------  -----  \n",
      " 0   Date    1258 non-null   object \n",
      " 1   Open    1258 non-null   float64\n",
      " 2   High    1258 non-null   float64\n",
      " 3   Low     1258 non-null   float64\n",
      " 4   Close   1258 non-null   object \n",
      " 5   Volume  1258 non-null   object \n",
      "dtypes: float64(3), object(3)\n",
      "memory usage: 59.1+ KB\n"
     ]
    }
   ],
   "source": [
    "data.info()"
   ]
  },
  {
   "cell_type": "code",
   "execution_count": 4,
   "id": "9bbb62ac",
   "metadata": {},
   "outputs": [],
   "source": [
    "data[\"Close\"]=pd.to_numeric(data.Close,errors='coerce')\n",
    "data = data.dropna()\n",
    "trainData = data.iloc[:,4:5].values"
   ]
  },
  {
   "cell_type": "code",
   "execution_count": 5,
   "id": "8c5aba19",
   "metadata": {},
   "outputs": [
    {
     "name": "stdout",
     "output_type": "stream",
     "text": [
      "<class 'pandas.core.frame.DataFrame'>\n",
      "Int64Index: 1149 entries, 0 to 1257\n",
      "Data columns (total 6 columns):\n",
      " #   Column  Non-Null Count  Dtype  \n",
      "---  ------  --------------  -----  \n",
      " 0   Date    1149 non-null   object \n",
      " 1   Open    1149 non-null   float64\n",
      " 2   High    1149 non-null   float64\n",
      " 3   Low     1149 non-null   float64\n",
      " 4   Close   1149 non-null   float64\n",
      " 5   Volume  1149 non-null   object \n",
      "dtypes: float64(4), object(2)\n",
      "memory usage: 62.8+ KB\n"
     ]
    }
   ],
   "source": [
    "data.info()"
   ]
  },
  {
   "cell_type": "code",
   "execution_count": 6,
   "id": "dba44f28",
   "metadata": {},
   "outputs": [
    {
     "data": {
      "text/plain": [
       "(1149, 1)"
      ]
     },
     "execution_count": 6,
     "metadata": {},
     "output_type": "execute_result"
    }
   ],
   "source": [
    "sc = MinMaxScaler(feature_range=(0,1))\n",
    "trainData = sc.fit_transform(trainData)\n",
    "trainData.shape"
   ]
  },
  {
   "cell_type": "code",
   "execution_count": 8,
   "id": "2668221c",
   "metadata": {},
   "outputs": [],
   "source": [
    "X_train = []\n",
    "y_train = []\n",
    "\n",
    "for i in range (60,1149): #60 : timestep // 1149 : length of the data\n",
    "    X_train.append(trainData[i-60:i,0]) \n",
    "    y_train.append(trainData[i,0])\n",
    "\n",
    "X_train,y_train = np.array(X_train),np.array(y_train)"
   ]
  },
  {
   "cell_type": "code",
   "execution_count": 9,
   "id": "86598a12",
   "metadata": {},
   "outputs": [
    {
     "data": {
      "text/plain": [
       "(1089, 60, 1)"
      ]
     },
     "execution_count": 9,
     "metadata": {},
     "output_type": "execute_result"
    }
   ],
   "source": [
    "X_train = np.reshape(X_train,(X_train.shape[0],X_train.shape[1],1)) #adding the batch_size axis\n",
    "X_train.shape"
   ]
  },
  {
   "cell_type": "code",
   "execution_count": 10,
   "id": "f6dfe408",
   "metadata": {},
   "outputs": [],
   "source": [
    "model = Sequential()\n",
    "\n",
    "model.add(LSTM(units=100, return_sequences = True, input_shape =(X_train.shape[1],1)))\n",
    "model.add(Dropout(0.2))\n",
    "\n",
    "model.add(LSTM(units=100, return_sequences = True))\n",
    "model.add(Dropout(0.2))\n",
    "\n",
    "model.add(LSTM(units=100, return_sequences = True))\n",
    "model.add(Dropout(0.2))\n",
    "\n",
    "model.add(LSTM(units=100, return_sequences = False))\n",
    "model.add(Dropout(0.2))\n",
    "\n",
    "model.add(Dense(units =1))\n",
    "model.compile(optimizer='adam',loss=\"mean_squared_error\")"
   ]
  },
  {
   "cell_type": "code",
   "execution_count": 11,
   "id": "8cc5282b",
   "metadata": {},
   "outputs": [
    {
     "name": "stdout",
     "output_type": "stream",
     "text": [
      "Epoch 1/20\n",
      "35/35 - 36s - loss: 0.0278 - 36s/epoch - 1s/step\n",
      "Epoch 2/20\n",
      "35/35 - 11s - loss: 0.0119 - 11s/epoch - 323ms/step\n",
      "Epoch 3/20\n",
      "35/35 - 11s - loss: 0.0079 - 11s/epoch - 325ms/step\n",
      "Epoch 4/20\n",
      "35/35 - 11s - loss: 0.0068 - 11s/epoch - 310ms/step\n",
      "Epoch 5/20\n",
      "35/35 - 10s - loss: 0.0286 - 10s/epoch - 294ms/step\n",
      "Epoch 6/20\n",
      "35/35 - 11s - loss: 0.0082 - 11s/epoch - 301ms/step\n",
      "Epoch 7/20\n",
      "35/35 - 11s - loss: 0.0072 - 11s/epoch - 306ms/step\n",
      "Epoch 8/20\n",
      "35/35 - 11s - loss: 0.0075 - 11s/epoch - 326ms/step\n",
      "Epoch 9/20\n",
      "35/35 - 9s - loss: 0.0065 - 9s/epoch - 248ms/step\n",
      "Epoch 10/20\n",
      "35/35 - 11s - loss: 0.0066 - 11s/epoch - 303ms/step\n",
      "Epoch 11/20\n",
      "35/35 - 10s - loss: 0.0062 - 10s/epoch - 293ms/step\n",
      "Epoch 12/20\n",
      "35/35 - 12s - loss: 0.0061 - 12s/epoch - 349ms/step\n",
      "Epoch 13/20\n",
      "35/35 - 16s - loss: 0.0062 - 16s/epoch - 449ms/step\n",
      "Epoch 14/20\n",
      "35/35 - 12s - loss: 0.0086 - 12s/epoch - 351ms/step\n",
      "Epoch 15/20\n",
      "35/35 - 12s - loss: 0.0062 - 12s/epoch - 352ms/step\n",
      "Epoch 16/20\n",
      "35/35 - 11s - loss: 0.0055 - 11s/epoch - 322ms/step\n",
      "Epoch 17/20\n",
      "35/35 - 11s - loss: 0.0054 - 11s/epoch - 319ms/step\n",
      "Epoch 18/20\n",
      "35/35 - 10s - loss: 0.0050 - 10s/epoch - 298ms/step\n",
      "Epoch 19/20\n",
      "35/35 - 14s - loss: 0.0052 - 14s/epoch - 389ms/step\n",
      "Epoch 20/20\n",
      "35/35 - 11s - loss: 0.0048 - 11s/epoch - 320ms/step\n"
     ]
    }
   ],
   "source": [
    "hist = model.fit(X_train, y_train, epochs = 20, batch_size = 32, verbose=2)"
   ]
  },
  {
   "cell_type": "code",
   "execution_count": 12,
   "id": "be7b68bd",
   "metadata": {},
   "outputs": [
    {
     "data": {
      "image/png": "[encoded data removed]",
      "text/plain": [
       "<Figure size 640x480 with 1 Axes>"
      ]
     },
     "metadata": {},
     "output_type": "display_data"
    }
   ],
   "source": [
    "plt.plot(hist.history['loss'])\n",
    "plt.title('Training model loss')\n",
    "plt.ylabel('loss')\n",
    "plt.xlabel('epoch')\n",
    "plt.legend(['train'], loc='upper left')\n",
    "plt.show()"
   ]
  },
  {
   "cell_type": "code",
   "execution_count": 14,
   "id": "80e63837",
   "metadata": {},
   "outputs": [
    {
     "data": {
      "text/plain": [
       "(192, 60, 1)"
      ]
     },
     "execution_count": 14,
     "metadata": {},
     "output_type": "execute_result"
    }
   ],
   "source": [
    "testData = pd.read_csv('D:/MACHINE LEARNING/goolestockprice/Google_test_data.csv')\n",
    "testData[\"Close\"]=pd.to_numeric(testData.Close,errors='coerce')\n",
    "testData = testData.dropna()\n",
    "testData = testData.iloc[:,4:5]\n",
    "y_test = testData.iloc[60:,0:].values \n",
    "#input array for the model\n",
    "inputClosing = testData.iloc[:,0:].values \n",
    "inputClosing_scaled = sc.transform(inputClosing)\n",
    "inputClosing_scaled.shape\n",
    "X_test = []\n",
    "length = len(testData)\n",
    "timestep = 60\n",
    "for i in range(timestep,length):  \n",
    "    X_test.append(inputClosing_scaled[i-timestep:i,0])\n",
    "X_test = np.array(X_test)\n",
    "X_test = np.reshape(X_test,(X_test.shape[0],X_test.shape[1],1))\n",
    "X_test.shape"
   ]
  },
  {
   "cell_type": "code",
   "execution_count": 15,
   "id": "6d646d6f",
   "metadata": {},
   "outputs": [
    {
     "name": "stdout",
     "output_type": "stream",
     "text": [
      "6/6 [==============================] - 4s 121ms/step\n"
     ]
    },
    {
     "data": {
      "text/plain": [
       "array([[1.2072076],\n",
       "       [1.2076682],\n",
       "       [1.2149707],\n",
       "       [1.2285854],\n",
       "       [1.2439054],\n",
       "       [1.2535034],\n",
       "       [1.2536443],\n",
       "       [1.2456905],\n",
       "       [1.2355782],\n",
       "       [1.2273889],\n",
       "       [1.2179793],\n",
       "       [1.2064413],\n",
       "       [1.1949201],\n",
       "       [1.1838504],\n",
       "       [1.1769034],\n",
       "       [1.1753634],\n",
       "       [1.1838554],\n",
       "       [1.2029382],\n",
       "       [1.2301491],\n",
       "       [1.2621782],\n",
       "       [1.2873787],\n",
       "       [1.3012502],\n",
       "       [1.2995929],\n",
       "       [1.2841045],\n",
       "       [1.2613014],\n",
       "       [1.2390629],\n",
       "       [1.2223257],\n",
       "       [1.2106235],\n",
       "       [1.1996114],\n",
       "       [1.1886209],\n",
       "       [1.1776398],\n",
       "       [1.1658891],\n",
       "       [1.1502501],\n",
       "       [1.1302394],\n",
       "       [1.115357 ],\n",
       "       [1.1120487],\n",
       "       [1.120737 ],\n",
       "       [1.1379997],\n",
       "       [1.160205 ],\n",
       "       [1.1796834],\n",
       "       [1.1982597],\n",
       "       [1.2167604],\n",
       "       [1.2355917],\n",
       "       [1.2534734],\n",
       "       [1.2680763],\n",
       "       [1.2761412],\n",
       "       [1.2751052],\n",
       "       [1.2695916],\n",
       "       [1.2641801],\n",
       "       [1.2625605],\n",
       "       [1.2667502],\n",
       "       [1.2725725],\n",
       "       [1.277202 ],\n",
       "       [1.2789986],\n",
       "       [1.2799176],\n",
       "       [1.2787929],\n",
       "       [1.2740818],\n",
       "       [1.2694732],\n",
       "       [1.2709603],\n",
       "       [1.2798274],\n",
       "       [1.2970556],\n",
       "       [1.3219584],\n",
       "       [1.3469604],\n",
       "       [1.3639138],\n",
       "       [1.3688151],\n",
       "       [1.3622673],\n",
       "       [1.351138 ],\n",
       "       [1.3407407],\n",
       "       [1.3341814],\n",
       "       [1.3312088],\n",
       "       [1.331344 ],\n",
       "       [1.3329835],\n",
       "       [1.3326722],\n",
       "       [1.3307106],\n",
       "       [1.3279328],\n",
       "       [1.3259709],\n",
       "       [1.3258001],\n",
       "       [1.3280016],\n",
       "       [1.3349125],\n",
       "       [1.3473481],\n",
       "       [1.3655552],\n",
       "       [1.3867022],\n",
       "       [1.4052358],\n",
       "       [1.4173775],\n",
       "       [1.4263581],\n",
       "       [1.436704 ],\n",
       "       [1.4497845],\n",
       "       [1.4633913],\n",
       "       [1.4747909],\n",
       "       [1.4821162],\n",
       "       [1.4867672],\n",
       "       [1.49322  ],\n",
       "       [1.5039881],\n",
       "       [1.5148336],\n",
       "       [1.5205874],\n",
       "       [1.5180708],\n",
       "       [1.5062093],\n",
       "       [1.4867946],\n",
       "       [1.4643782],\n",
       "       [1.4462317],\n",
       "       [1.4371408],\n",
       "       [1.4386858],\n",
       "       [1.4502536],\n",
       "       [1.4674555],\n",
       "       [1.4851621],\n",
       "       [1.4987402],\n",
       "       [1.5067695],\n",
       "       [1.5098814],\n",
       "       [1.5112213],\n",
       "       [1.513162 ],\n",
       "       [1.5172698],\n",
       "       [1.5246158],\n",
       "       [1.5343646],\n",
       "       [1.5464199],\n",
       "       [1.5615324],\n",
       "       [1.5771728],\n",
       "       [1.5916883],\n",
       "       [1.6046702],\n",
       "       [1.6175004],\n",
       "       [1.6160774],\n",
       "       [1.5931789],\n",
       "       [1.5511197],\n",
       "       [1.5016931],\n",
       "       [1.4564713],\n",
       "       [1.421069 ],\n",
       "       [1.396983 ],\n",
       "       [1.3833251],\n",
       "       [1.3786043],\n",
       "       [1.3765278],\n",
       "       [1.3720396],\n",
       "       [1.3695657],\n",
       "       [1.3740844],\n",
       "       [1.3845738],\n",
       "       [1.3951747],\n",
       "       [1.4033246],\n",
       "       [1.4083174],\n",
       "       [1.4090525],\n",
       "       [1.4049121],\n",
       "       [1.3969873],\n",
       "       [1.3848964],\n",
       "       [1.3701426],\n",
       "       [1.3531743],\n",
       "       [1.3269936],\n",
       "       [1.2932326],\n",
       "       [1.2555867],\n",
       "       [1.219568 ],\n",
       "       [1.1926535],\n",
       "       [1.1804737],\n",
       "       [1.1835408],\n",
       "       [1.1983784],\n",
       "       [1.2211833],\n",
       "       [1.2468134],\n",
       "       [1.2715614],\n",
       "       [1.293965 ],\n",
       "       [1.312605 ],\n",
       "       [1.3276151],\n",
       "       [1.340305 ],\n",
       "       [1.3502142],\n",
       "       [1.353024 ],\n",
       "       [1.3465277],\n",
       "       [1.3314608],\n",
       "       [1.3116504],\n",
       "       [1.2934983],\n",
       "       [1.282791 ],\n",
       "       [1.2827934],\n",
       "       [1.2939941],\n",
       "       [1.3114586],\n",
       "       [1.3309628],\n",
       "       [1.3508832],\n",
       "       [1.3699282],\n",
       "       [1.3866578],\n",
       "       [1.400473 ],\n",
       "       [1.4112338],\n",
       "       [1.4178128],\n",
       "       [1.4199032],\n",
       "       [1.4159266],\n",
       "       [1.4074606],\n",
       "       [1.397916 ],\n",
       "       [1.3887628],\n",
       "       [1.3802456],\n",
       "       [1.3882098],\n",
       "       [1.4164273],\n",
       "       [1.4580073],\n",
       "       [1.5016437],\n",
       "       [1.5369128],\n",
       "       [1.5563084],\n",
       "       [1.5530092],\n",
       "       [1.5313997],\n",
       "       [1.5000185],\n",
       "       [1.4713627],\n",
       "       [1.4505051],\n",
       "       [1.4371423]], dtype=float32)"
      ]
     },
     "execution_count": 15,
     "metadata": {},
     "output_type": "execute_result"
    }
   ],
   "source": [
    "y_pred = model.predict(X_test)\n",
    "y_pred"
   ]
  },
  {
   "cell_type": "code",
   "execution_count": 16,
   "id": "ddb435ac",
   "metadata": {},
   "outputs": [],
   "source": [
    "predicted_price = sc.inverse_transform(y_pred)"
   ]
  },
  {
   "cell_type": "code",
   "execution_count": 17,
   "id": "5a54ff46",
   "metadata": {},
   "outputs": [
    {
     "data": {
      "image/png": "[encoded data removed]",
      "text/plain": [
       "<Figure size 640x480 with 1 Axes>"
      ]
     },
     "metadata": {},
     "output_type": "display_data"
    }
   ],
   "source": [
    "plt.plot(y_test, color = 'red', label = 'Actual Stock Price')\n",
    "plt.plot(predicted_price, color = 'green', label = 'Predicted Stock Price')\n",
    "plt.title('Google stock price prediction')\n",
    "plt.xlabel('Time')\n",
    "plt.ylabel('Stock Price')\n",
    "plt.legend()\n",
    "plt.show()"
   ]
  },
  {
   "cell_type": "code",
   "execution_count": null,
   "id": "fd534716",
   "metadata": {},
   "outputs": [],
   "source": []
  }
 ],
 "metadata": {
  "kernelspec": {
   "display_name": "Python 3 (ipykernel)",
   "language": "python",
   "name": "python3"
  },
  "language_info": {
   "codemirror_mode": {
    "name": "ipython",
    "version": 3
   },
   "file_extension": ".py",
   "mimetype": "text/x-python",
   "name": "python",
   "nbconvert_exporter": "python",
   "pygments_lexer": "ipython3",
   "version": "3.10.9"
  }
 },
 "nbformat": 4,
 "nbformat_minor": 5
}
